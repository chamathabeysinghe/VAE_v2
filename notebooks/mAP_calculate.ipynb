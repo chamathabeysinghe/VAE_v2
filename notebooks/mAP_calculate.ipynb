{
 "cells": [
  {
   "cell_type": "code",
   "execution_count": 1,
   "metadata": {},
   "outputs": [],
   "source": [
    "import pandas as pd\n",
    "import numpy as np"
   ]
  },
  {
   "cell_type": "code",
   "execution_count": 2,
   "metadata": {},
   "outputs": [],
   "source": [
    "def calculate_iou(gt, pr, form='pascal_voc') -> float:\n",
    "    \"\"\"Calculates the Intersection over Union.\n",
    "\n",
    "    Args:\n",
    "        gt: (np.ndarray[Union[int, float]]) coordinates of the ground-truth box\n",
    "        pr: (np.ndarray[Union[int, float]]) coordinates of the prdected box\n",
    "        form: (str) gt/pred coordinates format\n",
    "            - pascal_voc: [xmin, ymin, xmax, ymax]\n",
    "            - coco: [xmin, ymin, w, h]\n",
    "    Returns:\n",
    "        (float) Intersection over union (0.0 <= iou <= 1.0)\n",
    "    \"\"\"\n",
    "    if form == 'coco':\n",
    "        gt = gt.copy()\n",
    "        pr = pr.copy()\n",
    "\n",
    "        gt[2] = gt[0] + gt[2]\n",
    "        gt[3] = gt[1] + gt[3]\n",
    "        pr[2] = pr[0] + pr[2]\n",
    "        pr[3] = pr[1] + pr[3]\n",
    "\n",
    "    # Calculate overlap area\n",
    "    dx = min(gt[2], pr[2]) - max(gt[0], pr[0]) + 1\n",
    "    \n",
    "    if dx < 0:\n",
    "        return 0.0\n",
    "    \n",
    "    dy = min(gt[3], pr[3]) - max(gt[1], pr[1]) + 1\n",
    "\n",
    "    if dy < 0:\n",
    "        return 0.0\n",
    "\n",
    "    overlap_area = dx * dy\n",
    "\n",
    "    # Calculate union area\n",
    "    union_area = (\n",
    "            (gt[2] - gt[0] + 1) * (gt[3] - gt[1] + 1) +\n",
    "            (pr[2] - pr[0] + 1) * (pr[3] - pr[1] + 1) -\n",
    "            overlap_area\n",
    "    )\n",
    "\n",
    "    return overlap_area / union_area"
   ]
  },
  {
   "cell_type": "code",
   "execution_count": 3,
   "metadata": {},
   "outputs": [],
   "source": [
    "def find_best_match(gts, pred, pred_idx, threshold = 0.5, form = 'pascal_voc', ious=None) -> int:\n",
    "    \"\"\"Returns the index of the 'best match' between the\n",
    "    ground-truth boxes and the prediction. The 'best match'\n",
    "    is the highest IoU. (0.0 IoUs are ignored).\n",
    "\n",
    "    Args:\n",
    "        gts: (List[List[Union[int, float]]]) Coordinates of the available ground-truth boxes\n",
    "        pred: (List[Union[int, float]]) Coordinates of the predicted box\n",
    "        pred_idx: (int) Index of the current predicted box\n",
    "        threshold: (float) Threshold\n",
    "        form: (str) Format of the coordinates\n",
    "        ious: (np.ndarray) len(gts) x len(preds) matrix for storing calculated ious.\n",
    "\n",
    "    Return:\n",
    "        (int) Index of the best match GT box (-1 if no match above threshold)\n",
    "    \"\"\"\n",
    "    best_match_iou = -np.inf\n",
    "    best_match_idx = -1\n",
    "\n",
    "    for gt_idx in range(len(gts)):\n",
    "        \n",
    "        if gts[gt_idx][0] < 0:\n",
    "            # Already matched GT-box\n",
    "            continue\n",
    "        \n",
    "        iou = -1 if ious is None else ious[gt_idx][pred_idx]\n",
    "\n",
    "        if iou < 0:\n",
    "            iou = calculate_iou(gts[gt_idx], pred, form=form)\n",
    "            \n",
    "            if ious is not None:\n",
    "                ious[gt_idx][pred_idx] = iou\n",
    "\n",
    "        if iou < threshold:\n",
    "            continue\n",
    "\n",
    "        if iou > best_match_iou:\n",
    "            best_match_iou = iou\n",
    "            best_match_idx = gt_idx\n",
    "\n",
    "    return best_match_idx"
   ]
  },
  {
   "cell_type": "code",
   "execution_count": 4,
   "metadata": {},
   "outputs": [],
   "source": [
    "def calculate_precision(gts, preds, threshold = 0.5, form = 'coco', ious=None) -> float:\n",
    "    \"\"\"Calculates precision for GT - prediction pairs at one threshold.\n",
    "\n",
    "    Args:\n",
    "        gts: (List[List[Union[int, float]]]) Coordinates of the available ground-truth boxes\n",
    "        preds: (List[List[Union[int, float]]]) Coordinates of the predicted boxes,\n",
    "               sorted by confidence value (descending)\n",
    "        threshold: (float) Threshold\n",
    "        form: (str) Format of the coordinates\n",
    "        ious: (np.ndarray) len(gts) x len(preds) matrix for storing calculated ious.\n",
    "\n",
    "    Return:\n",
    "        (float) Precision\n",
    "    \"\"\"\n",
    "    n = len(preds)\n",
    "    tp = 0\n",
    "    fp = 0\n",
    "    \n",
    "    # for pred_idx, pred in enumerate(preds_sorted):\n",
    "    for pred_idx in range(n):\n",
    "\n",
    "        best_match_gt_idx = find_best_match(gts, preds[pred_idx], pred_idx,\n",
    "                                            threshold=threshold, form=form, ious=ious)\n",
    "\n",
    "        if best_match_gt_idx >= 0:\n",
    "            # True positive: The predicted box matches a gt box with an IoU above the threshold.\n",
    "            tp += 1\n",
    "            # Remove the matched GT box\n",
    "            gts[best_match_gt_idx] = -1\n",
    "\n",
    "        else:\n",
    "            # No match\n",
    "            # False positive: indicates a predicted box had no associated gt box.\n",
    "            fp += 1\n",
    "\n",
    "    # False negative: indicates a gt box had no associated predicted box.\n",
    "    fn = (gts.sum(axis=1) > 0).sum()\n",
    "\n",
    "    return tp / (tp + fp + fn), tp, fp, fn"
   ]
  },
  {
   "cell_type": "code",
   "execution_count": 5,
   "metadata": {},
   "outputs": [],
   "source": [
    "def calculate_image_precision(image_id, gts, preds, thresholds = (0.5, ), form = 'coco') -> float:\n",
    "    \"\"\"Calculates image precision.\n",
    "\n",
    "    Args:\n",
    "        gts: (List[List[Union[int, float]]]) Coordinates of the available ground-truth boxes\n",
    "        preds: (List[List[Union[int, float]]]) Coordinates of the predicted boxes,\n",
    "               sorted by confidence value (descending)\n",
    "        thresholds: (float) Different thresholds\n",
    "        form: (str) Format of the coordinates\n",
    "\n",
    "    Return:\n",
    "        (float) Precision\n",
    "    \"\"\"\n",
    "    n_threshold = len(thresholds)\n",
    "    image_precision = 0.0\n",
    "    \n",
    "    ious = np.ones((len(gts), len(preds))) * -1\n",
    "    # ious = None\n",
    "    csv_record = {'image': image_id, 'total_predictions': len(preds)}\n",
    "    for threshold in thresholds:\n",
    "        precision_at_threshold, tp, fp, fn = calculate_precision(gts.copy(), preds, threshold=threshold,\n",
    "                                                     form=form, ious=ious)\n",
    "        image_precision += precision_at_threshold / n_threshold\n",
    "        csv_record['tp@{}(IoU)'.format(threshold)] = tp\n",
    "        csv_record['fp@{}(IoU)'.format(threshold)] = fp\n",
    "        csv_record['fn@{}(IoU)'.format(threshold)] = fn\n",
    "        csv_record['AP@{}(IoU)'.format(threshold)] = precision_at_threshold\n",
    "    csv_record['mAP'.format(threshold)] = image_precision\n",
    "    return image_precision, csv_record"
   ]
  },
  {
   "cell_type": "code",
   "execution_count": 6,
   "metadata": {},
   "outputs": [],
   "source": [
    "def evaluate_one_frame(frame_index, df_gt, df_pred, iou_thresholds):\n",
    "    \n",
    "    gt_boxes = df_gt[df_gt['frame'] == frame_index][['y', 'x', 'w', 'h']].values\n",
    "    gt_boxes = gt_boxes.astype(np.int)\n",
    "    \n",
    "    \n",
    "    pred_box = df_pred[df_pred['frame'] == frame_index][['y', 'x', 'w', 'h']].values\n",
    "    pred_box = pred_box.astype(np.int)\n",
    "    pred_scores = df_pred[df_pred['frame'] == frame_index]['score'].values\n",
    "    pred_scores = pred_scores.astype(np.float)\n",
    "    \n",
    "    preds_sorted_idx = np.argsort(pred_scores)[::-1]\n",
    "    preds_sorted = pred_box[preds_sorted_idx]\n",
    "    \n",
    "    image_precision, csv_record = calculate_image_precision(frame_index, gt_boxes, preds_sorted,\n",
    "                                            thresholds=iou_thresholds,\n",
    "                                            form='coco')\n",
    "\n",
    "#     print(\"The average precision of the sample image: {0:.4f}\".format(image_precision))\n",
    "    return csv_record\n",
    "#     print(csv_record)\n",
    "    \n",
    "    \n",
    "    "
   ]
  },
  {
   "cell_type": "code",
   "execution_count": 7,
   "metadata": {},
   "outputs": [],
   "source": [
    "def evaluate_save_all_frames(df_gt, df_pred):\n",
    "    frame_count = df_gt['frame'].unique().shape[0]\n",
    "    iou_thresholds = []\n",
    "    for x in [0.5, 0.55, 0.6, 0.65, 0.7, 0.75]:\n",
    "        iou_thresholds.append(x)\n",
    "    \n",
    "    csv_records = []\n",
    "    for frame_index in range(frame_count):\n",
    "        record = evaluate_one_frame(frame_index, df_gt, df_pred, iou_thresholds)\n",
    "        csv_records.append(record)\n",
    "    \n",
    "    df_result = pd.DataFrame(csv_records)\n",
    "    df_result = df_result.round(3)\n",
    "    df_result.to_csv(save_path, index=None)\n",
    "\n"
   ]
  },
  {
   "cell_type": "code",
   "execution_count": 26,
   "metadata": {},
   "outputs": [],
   "source": [
    "ant_folder = 3\n",
    "dataset_type = 'simple_dataset'\n",
    "file_name = 'original:_300-resize:_75-{}_ants'.format(ant_folder)\n",
    "save_path = '/Users/chamathabeysinghe/Projects/monash/VAE_v2/evaluations/{}/{}.csv'.format(dataset_type, file_name)\n",
    "gt_csv = \"/Users/chamathabeysinghe/Projects/monash/VAE_v2/data/synthetic/{}/{}.csv\".format(dataset_type, file_name)\n",
    "prd_csv = \"/Users/chamathabeysinghe/Projects/monash/VAE_v2/predictions/{}/{}.csv\".format(dataset_type, file_name)\n",
    "df_gt = pd.read_csv(gt_csv)\n",
    "df_pred = pd.read_csv(prd_csv)"
   ]
  },
  {
   "cell_type": "code",
   "execution_count": 27,
   "metadata": {},
   "outputs": [],
   "source": [
    "evaluate_save_all_frames(df_gt, df_pred)"
   ]
  },
  {
   "cell_type": "markdown",
   "metadata": {},
   "source": [
    "## Visual verification"
   ]
  },
  {
   "cell_type": "code",
   "execution_count": 28,
   "metadata": {},
   "outputs": [
    {
     "data": {
      "text/plain": [
       "<matplotlib.image.AxesImage at 0x11f9e2250>"
      ]
     },
     "execution_count": 28,
     "metadata": {},
     "output_type": "execute_result"
    },
    {
     "data": {
      "image/png": "[encoded data removed]",
      "text/plain": [
       "<Figure size 432x288 with 1 Axes>"
      ]
     },
     "metadata": {
      "needs_background": "light"
     },
     "output_type": "display_data"
    }
   ],
   "source": [
    "from PIL import Image, ImageDraw\n",
    "import matplotlib.pyplot as plt\n",
    "frame = 4\n",
    "image_path = \"/Users/chamathabeysinghe/Projects/monash/VAE_v2/data/synthetic/{}/{}/{:05d}.png\".format(dataset_type, file_name, frame)\n",
    "gt_boxes = df_gt[df_gt['frame'] == frame][['y', 'x', 'w', 'h']].values\n",
    "gt_boxes = gt_boxes.astype(np.int)\n",
    "pred_box = df_pred[df_pred['frame'] == frame][['y', 'x', 'w', 'h']].values\n",
    "pred_box = pred_box.astype(np.int)\n",
    "\n",
    "def draw_bboxes_img(img, bboxes, color):\n",
    "    draw = ImageDraw.Draw(img)\n",
    "    for i, bbox in enumerate(bboxes):\n",
    "        x, y, w, h = bbox\n",
    "        draw.rectangle([x, y, x + w, y + h], outline=color)\n",
    "\n",
    "img = Image.open(image_path)\n",
    "img = img.convert('RGB')\n",
    "draw_bboxes_img(img, gt_boxes, (255, 0, 0))\n",
    "draw_bboxes_img(img, pred_box, (0, 255, 0))\n",
    "plt.imshow(img)      "
   ]
  },
  {
   "cell_type": "code",
   "execution_count": null,
   "metadata": {},
   "outputs": [],
   "source": []
  },
  {
   "cell_type": "code",
   "execution_count": null,
   "metadata": {},
   "outputs": [],
   "source": []
  }
 ],
 "metadata": {
  "kernelspec": {
   "display_name": "VAE_v2",
   "language": "python",
   "name": "vae_v2"
  },
  "language_info": {
   "codemirror_mode": {
    "name": "ipython",
    "version": 3
   },
   "file_extension": ".py",
   "mimetype": "text/x-python",
   "name": "python",
   "nbconvert_exporter": "python",
   "pygments_lexer": "ipython3",
   "version": "3.7.7"
  }
 },
 "nbformat": 4,
 "nbformat_minor": 2
}
