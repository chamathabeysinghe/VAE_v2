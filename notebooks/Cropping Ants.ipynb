{
 "cells": [
  {
   "cell_type": "code",
   "execution_count": 1,
   "metadata": {},
   "outputs": [],
   "source": [
    "import cv2\n",
    "import numpy as np\n",
    "import os\n",
    "import glob\n",
    "from PIL import Image\n",
    "import matplotlib.pyplot as plt\n",
    "import pickle\n",
    "from random import randint\n",
    "%matplotlib inline"
   ]
  },
  {
   "cell_type": "code",
   "execution_count": 2,
   "metadata": {},
   "outputs": [],
   "source": [
    "def read_image(path):\n",
    "    img = np.asarray(Image.open(path))\n",
    "    return img\n",
    "\n",
    "def write_image_to_file(img, path):\n",
    "    cv2.imwrite(path, img)\n",
    "    \n",
    "def draw_image(image):\n",
    "    image = np.squeeze(image)\n",
    "    plt.figure(figsize=(7, 7))\n",
    "    plt.imshow(image, cmap='gray', interpolation='none')\n",
    "    plt.axis('off')\n",
    "    plt.show()\n",
    "\n",
    "def resize_image(img, resize_shape):\n",
    "    res = cv2.resize(img, dsize=resize_shape, interpolation=cv2.INTER_CUBIC)\n",
    "    return res    "
   ]
  },
  {
   "cell_type": "code",
   "execution_count": 3,
   "metadata": {},
   "outputs": [],
   "source": [
    "def get_bounding_boxes(image):\n",
    "    bboxes = []\n",
    "    ret, thresh = cv2.threshold(img, 120, 255, 0)\n",
    "    kernel = cv2.getStructuringElement(cv2.MORPH_RECT, (3,3))\n",
    "    dilate = cv2.dilate(thresh, kernel, iterations=3)\n",
    "#     draw_image(dilate)\n",
    "    contours, hierarchy = cv2.findContours(dilate, cv2.RETR_TREE, cv2.CHAIN_APPROX_SIMPLE)\n",
    "    for cnt in contours:\n",
    "        area = cv2.contourArea(cnt)\n",
    "        if (area > 400.0):\n",
    "            x, y, w, h = cv2.boundingRect(cnt)\n",
    "            crop = thresh[y:y+h, x:x+w]\n",
    "            \n",
    "            white_count = crop[crop > 1].shape[0]\n",
    "            black_count = crop[crop < 1].shape[0]\n",
    "#             print(while_count/black_count)\n",
    "            \n",
    "            if (white_count/black_count > 0.08):\n",
    "                bboxes.append(cv2.boundingRect(cnt))\n",
    "    return bboxes\n",
    "    "
   ]
  },
  {
   "cell_type": "code",
   "execution_count": 4,
   "metadata": {},
   "outputs": [],
   "source": [
    "def draw_bboxes(gray_img, bboxes):\n",
    "    img = cv2.cvtColor(gray_img,cv2.COLOR_GRAY2RGB)\n",
    "    for b in bboxes:\n",
    "        x, y, w, h = b\n",
    "        cv2.rectangle(img,(x,y),(x+w,y+h),(0,255,0),2)\n",
    "    draw_image(img)"
   ]
  },
  {
   "cell_type": "code",
   "execution_count": 5,
   "metadata": {},
   "outputs": [],
   "source": [
    "def crop_selection(img, bbox):\n",
    "    x, y, w, h = bbox\n",
    "    crop = img[y:y+h, x:x+w]\n",
    "    return crop"
   ]
  },
  {
   "cell_type": "code",
   "execution_count": 6,
   "metadata": {},
   "outputs": [],
   "source": [
    "base_path = \"/Users/chamathabeysinghe/Projects/monash/VAE_v2/data/intermediate/single_ant_bw\"\n",
    "img_paths = [os.path.join(base_path, x) for x in os.listdir(base_path) if not x.startswith('.')]\n"
   ]
  },
  {
   "cell_type": "code",
   "execution_count": 7,
   "metadata": {
    "scrolled": true
   },
   "outputs": [],
   "source": [
    "ants = []\n",
    "for i_path in img_paths:\n",
    "    img = read_image(i_path)\n",
    "    bboxes = get_bounding_boxes(img)\n",
    "    crop = crop_selection(img, bboxes[0])\n",
    "    ants.append(crop)\n",
    "#     draw_bboxes(img, bboxes)"
   ]
  },
  {
   "cell_type": "code",
   "execution_count": null,
   "metadata": {},
   "outputs": [],
   "source": [
    "with open('ants.pkl', 'wb') as f:\n",
    "    pickle.dump(ants, f)"
   ]
  },
  {
   "cell_type": "markdown",
   "metadata": {},
   "source": [
    "## Create synthetic antdataset"
   ]
  },
  {
   "cell_type": "code",
   "execution_count": null,
   "metadata": {},
   "outputs": [],
   "source": [
    "with open('ants.pkl', 'rb') as f:\n",
    "    ants = pickle.load(f)"
   ]
  },
  {
   "cell_type": "code",
   "execution_count": null,
   "metadata": {},
   "outputs": [],
   "source": [
    "def draw_ant(back):\n",
    "    ant_index = randint(0, len(ants)-1)\n",
    "    ant_img = ants[ant_index]\n",
    "    bak_h, bak_w = back.shape\n",
    "    ant_h, ant_w = ant_img.shape\n",
    "    \n",
    "    start_x = randint(0, bak_h - ant_h)\n",
    "    start_y = randint(0, bak_w - ant_w)\n",
    "    \n",
    "    back[start_x:start_x+ant_h, start_y: start_y+ ant_w] += ant_img\n",
    "    "
   ]
  },
  {
   "cell_type": "code",
   "execution_count": null,
   "metadata": {},
   "outputs": [],
   "source": [
    "def draw_images (original_size, resize_size, path, file_index):\n",
    "    background = np.zeros((original_size, original_size))\n",
    "#     if file_index%3 > 0:\n",
    "#         draw_ant(background)\n",
    "        \n",
    "    for i in range(file_index%4):\n",
    "        draw_ant(background)\n",
    "    background = resize_image(background, (resize_size, resize_size))\n",
    "    write_image_to_file(background, os.path.join(path, '{:05d}.png'.format(file_index)))\n",
    "    return background"
   ]
  },
  {
   "cell_type": "code",
   "execution_count": null,
   "metadata": {},
   "outputs": [],
   "source": [
    "original_size = 300\n",
    "resize_size = 75\n",
    "base_path = '/Users/chamathabeysinghe/Projects/monash/test/variational_auto_encoder/data/ANTS-SYNTHETIC/test-original: {}-resize: {}-3ants'.format(original_size, resize_size)\n",
    "os.makedirs(base_path, exist_ok=True)"
   ]
  },
  {
   "cell_type": "code",
   "execution_count": null,
   "metadata": {
    "scrolled": true
   },
   "outputs": [],
   "source": [
    "images = []\n",
    "for i in range(1000):\n",
    "    print(i)\n",
    "    img = draw_images(original_size, resize_size, base_path, i)\n",
    "    images.append(img)\n",
    "images = np.asarray(images)\n",
    "# np.random.shuffle(images)\n",
    "np.save(base_path, images)"
   ]
  },
  {
   "cell_type": "code",
   "execution_count": null,
   "metadata": {},
   "outputs": [],
   "source": [
    "draw_image(images[6])"
   ]
  },
  {
   "cell_type": "markdown",
   "metadata": {},
   "source": [
    "## Advanced dataset"
   ]
  },
  {
   "cell_type": "code",
   "execution_count": 22,
   "metadata": {},
   "outputs": [],
   "source": [
    "def draw_close_ants(back, count):\n",
    "    \n",
    "    ant_imgs = []\n",
    "    \n",
    "    for _ in range(count):\n",
    "        ant_index = randint(0, len(ants)-1)\n",
    "        ant_img = ants[ant_index]\n",
    "        ant_imgs.append(ant_img)\n",
    "        \n",
    "        \n",
    "    bak_h, bak_w, _ = back.shape\n",
    "    \n",
    "    ant_img = ant_imgs[0]\n",
    "    ant_h, ant_w = ant_img.shape\n",
    "    start_x = randint(0, bak_h - ant_h)\n",
    "    start_y = randint(0, bak_w - ant_w)\n",
    "    shape = back.shape\n",
    "    print(shape)\n",
    "    back = Image.fromarray(back, mode=\"RGBA\")\n",
    "    plt.imshow(back)\n",
    "    for i in range(1, count+1):\n",
    "        new_back = np.zeros(shape)\n",
    "        new_back[start_x:start_x+ant_h, start_y: start_y+ ant_w] += ant_img\n",
    "        new_back = Image.fromarray(new_back)\n",
    "        new_back = new_back.convert(\"RGBA\")\n",
    "    \n",
    "        \n",
    "        back = Image.alpha_composite(back, new_back)\n",
    "        plt.imshow(back)\n",
    "#         back[start_x:start_x+ant_h, start_y: start_y+ ant_w] += ant_img\n",
    "        if (i >= len(ant_imgs)):\n",
    "            break\n",
    "        ant_img = ant_imgs[i]\n",
    "        ant_h, ant_w = ant_img.shape\n",
    "        start_x = min(max(0, start_x + randint(-50, 50)), bak_h - ant_h)\n",
    "        start_y = min(max(0, start_y + randint(-50, 50)), bak_w - ant_w)\n",
    "    back = back.convert(\"RGB\")   \n",
    "    return back"
   ]
  },
  {
   "cell_type": "code",
   "execution_count": 125,
   "metadata": {},
   "outputs": [
    {
     "data": {
      "text/plain": [
       "<matplotlib.image.AxesImage at 0x18a16c510>"
      ]
     },
     "execution_count": 125,
     "metadata": {},
     "output_type": "execute_result"
    },
    {
     "data": {
      "image/png": "[encoded data removed]",
      "text/plain": [
       "<Figure size 432x288 with 1 Axes>"
      ]
     },
     "metadata": {
      "needs_background": "light"
     },
     "output_type": "display_data"
    }
   ],
   "source": [
    "ant_img = ants[2]\n",
    "overlay = np.full(ant_img.shape, 0)\n",
    "overlay[ant_img > 1] = 255\n",
    "ant_img = cv2.cvtColor(ant_img, cv2.COLOR_GRAY2RGB)\n",
    "\n",
    "plt.imshow(overlay, cmap='gray')\n"
   ]
  },
  {
   "cell_type": "code",
   "execution_count": 126,
   "metadata": {},
   "outputs": [
    {
     "data": {
      "text/plain": [
       "(75, 88, 1)"
      ]
     },
     "execution_count": 126,
     "metadata": {},
     "output_type": "execute_result"
    }
   ],
   "source": [
    "overlay = overlay.reshape((ant_img.shape[0], ant_img.shape[1], 1))\n",
    "overlay.shape"
   ]
  },
  {
   "cell_type": "code",
   "execution_count": 130,
   "metadata": {},
   "outputs": [],
   "source": [
    "c = np.concatenate((ant_img, overlay), axis=2)\n",
    "c = c.astype(np.uint8)\n"
   ]
  },
  {
   "cell_type": "code",
   "execution_count": 131,
   "metadata": {},
   "outputs": [
    {
     "data": {
      "text/plain": [
       "<matplotlib.image.AxesImage at 0x18b54ef10>"
      ]
     },
     "execution_count": 131,
     "metadata": {},
     "output_type": "execute_result"
    },
    {
     "data": {
      "image/png": "[encoded data removed]",
      "text/plain": [
       "<Figure size 432x288 with 1 Axes>"
      ]
     },
     "metadata": {
      "needs_background": "light"
     },
     "output_type": "display_data"
    }
   ],
   "source": [
    "plt.imshow(c)"
   ]
  },
  {
   "cell_type": "code",
   "execution_count": 134,
   "metadata": {},
   "outputs": [
    {
     "data": {
      "image/png": "[encoded data removed]",
      "text/plain": [
       "<Figure size 432x288 with 1 Axes>"
      ]
     },
     "metadata": {
      "needs_background": "light"
     },
     "output_type": "display_data"
    }
   ],
   "source": [
    "i = Image.fromarray(c, mode='RGBA')\n",
    "plt.imshow(i)\n",
    "i = i.convert(\"RGB\")\n",
    "\n",
    "i.save(\"img2.png\", \"PNG\")"
   ]
  },
  {
   "cell_type": "code",
   "execution_count": 121,
   "metadata": {},
   "outputs": [
    {
     "data": {
      "image/png": "[encoded data removed]",
      "text/plain": [
       "<Figure size 432x288 with 1 Axes>"
      ]
     },
     "metadata": {
      "needs_background": "light"
     },
     "output_type": "display_data"
    }
   ],
   "source": [
    "back = np.zeros((100, 100, 4))\n",
    "obj = np.full((10, 10, 4), 255)\n",
    "back[40:50, 40:50, :] = obj\n",
    "back = back.astype(np.uint8)\n",
    "\n",
    "plt.imshow(back)\n",
    "img = Image.fromarray(back, mode='RGBA')\n",
    "img = img.convert(\"RGB\")\n",
    "plt.imshow(img)\n",
    "img.save(\"img2.png\", \"PNG\")"
   ]
  },
  {
   "cell_type": "code",
   "execution_count": 23,
   "metadata": {},
   "outputs": [
    {
     "name": "stdout",
     "output_type": "stream",
     "text": [
      "(300, 300, 4)\n"
     ]
    },
    {
     "ename": "ValueError",
     "evalue": "operands could not be broadcast together with shapes (110,107,4) (110,107) (110,107,4) ",
     "output_type": "error",
     "traceback": [
      "\u001b[0;31m---------------------------------------------------------------------------\u001b[0m",
      "\u001b[0;31mValueError\u001b[0m                                Traceback (most recent call last)",
      "\u001b[0;32m<ipython-input-23-aaff4f59bd7e>\u001b[0m in \u001b[0;36m<module>\u001b[0;34m\u001b[0m\n\u001b[1;32m      1\u001b[0m \u001b[0mbackground\u001b[0m \u001b[0;34m=\u001b[0m \u001b[0mnp\u001b[0m\u001b[0;34m.\u001b[0m\u001b[0mzeros\u001b[0m\u001b[0;34m(\u001b[0m\u001b[0;34m(\u001b[0m\u001b[0;36m300\u001b[0m\u001b[0;34m,\u001b[0m \u001b[0;36m300\u001b[0m\u001b[0;34m,\u001b[0m \u001b[0;36m4\u001b[0m\u001b[0;34m)\u001b[0m\u001b[0;34m)\u001b[0m\u001b[0;34m\u001b[0m\u001b[0;34m\u001b[0m\u001b[0m\n\u001b[0;32m----> 2\u001b[0;31m \u001b[0mbackground\u001b[0m \u001b[0;34m=\u001b[0m \u001b[0mdraw_close_ants\u001b[0m\u001b[0;34m(\u001b[0m\u001b[0mbackground\u001b[0m\u001b[0;34m,\u001b[0m \u001b[0;36m3\u001b[0m\u001b[0;34m)\u001b[0m\u001b[0;34m\u001b[0m\u001b[0;34m\u001b[0m\u001b[0m\n\u001b[0m\u001b[1;32m      3\u001b[0m \u001b[0mbackground\u001b[0m \u001b[0;34m=\u001b[0m \u001b[0mnp\u001b[0m\u001b[0;34m.\u001b[0m\u001b[0masarray\u001b[0m\u001b[0;34m(\u001b[0m\u001b[0mbackground\u001b[0m\u001b[0;34m)\u001b[0m\u001b[0;34m\u001b[0m\u001b[0;34m\u001b[0m\u001b[0m\n\u001b[1;32m      4\u001b[0m \u001b[0;31m# plt.imshow(background)\u001b[0m\u001b[0;34m\u001b[0m\u001b[0;34m\u001b[0m\u001b[0;34m\u001b[0m\u001b[0m\n",
      "\u001b[0;32m<ipython-input-22-13b5afbe0b42>\u001b[0m in \u001b[0;36mdraw_close_ants\u001b[0;34m(back, count)\u001b[0m\n\u001b[1;32m     21\u001b[0m     \u001b[0;32mfor\u001b[0m \u001b[0mi\u001b[0m \u001b[0;32min\u001b[0m \u001b[0mrange\u001b[0m\u001b[0;34m(\u001b[0m\u001b[0;36m1\u001b[0m\u001b[0;34m,\u001b[0m \u001b[0mcount\u001b[0m\u001b[0;34m+\u001b[0m\u001b[0;36m1\u001b[0m\u001b[0;34m)\u001b[0m\u001b[0;34m:\u001b[0m\u001b[0;34m\u001b[0m\u001b[0;34m\u001b[0m\u001b[0m\n\u001b[1;32m     22\u001b[0m         \u001b[0mnew_back\u001b[0m \u001b[0;34m=\u001b[0m \u001b[0mnp\u001b[0m\u001b[0;34m.\u001b[0m\u001b[0mzeros\u001b[0m\u001b[0;34m(\u001b[0m\u001b[0mshape\u001b[0m\u001b[0;34m)\u001b[0m\u001b[0;34m\u001b[0m\u001b[0;34m\u001b[0m\u001b[0m\n\u001b[0;32m---> 23\u001b[0;31m         \u001b[0mnew_back\u001b[0m\u001b[0;34m[\u001b[0m\u001b[0mstart_x\u001b[0m\u001b[0;34m:\u001b[0m\u001b[0mstart_x\u001b[0m\u001b[0;34m+\u001b[0m\u001b[0mant_h\u001b[0m\u001b[0;34m,\u001b[0m \u001b[0mstart_y\u001b[0m\u001b[0;34m:\u001b[0m \u001b[0mstart_y\u001b[0m\u001b[0;34m+\u001b[0m \u001b[0mant_w\u001b[0m\u001b[0;34m]\u001b[0m \u001b[0;34m+=\u001b[0m \u001b[0mant_img\u001b[0m\u001b[0;34m\u001b[0m\u001b[0;34m\u001b[0m\u001b[0m\n\u001b[0m\u001b[1;32m     24\u001b[0m         \u001b[0mnew_back\u001b[0m \u001b[0;34m=\u001b[0m \u001b[0mImage\u001b[0m\u001b[0;34m.\u001b[0m\u001b[0mfromarray\u001b[0m\u001b[0;34m(\u001b[0m\u001b[0mnew_back\u001b[0m\u001b[0;34m)\u001b[0m\u001b[0;34m\u001b[0m\u001b[0;34m\u001b[0m\u001b[0m\n\u001b[1;32m     25\u001b[0m         \u001b[0mnew_back\u001b[0m \u001b[0;34m=\u001b[0m \u001b[0mnew_back\u001b[0m\u001b[0;34m.\u001b[0m\u001b[0mconvert\u001b[0m\u001b[0;34m(\u001b[0m\u001b[0;34m\"RGBA\"\u001b[0m\u001b[0;34m)\u001b[0m\u001b[0;34m\u001b[0m\u001b[0;34m\u001b[0m\u001b[0m\n",
      "\u001b[0;31mValueError\u001b[0m: operands could not be broadcast together with shapes (110,107,4) (110,107) (110,107,4) "
     ]
    },
    {
     "data": {
      "image/png": "[encoded data removed]",
      "text/plain": [
       "<Figure size 432x288 with 1 Axes>"
      ]
     },
     "metadata": {
      "needs_background": "light"
     },
     "output_type": "display_data"
    }
   ],
   "source": [
    "background = np.zeros((300, 300, 4))\n",
    "background = draw_close_ants(background, 3)\n",
    "background = np.asarray(background)\n",
    "# plt.imshow(background)"
   ]
  },
  {
   "cell_type": "code",
   "execution_count": null,
   "metadata": {},
   "outputs": [],
   "source": [
    "def draw_images_advanced (original_size, resize_size, path, file_index):\n",
    "    background = np.zeros((original_size, original_size))\n",
    "#     if file_index%3 > 0:\n",
    "#         draw_ant(background)\n",
    "        \n",
    "    background = draw_close_ants(background, 3)\n",
    "    background = np.asarray(background)\n",
    "    background = resize_image(background, (resize_size, resize_size))\n",
    "    write_image_to_file(background, os.path.join(path, '{:05d}.png'.format(file_index)))\n",
    "    return background"
   ]
  },
  {
   "cell_type": "code",
   "execution_count": null,
   "metadata": {},
   "outputs": [],
   "source": [
    "original_size = 300\n",
    "resize_size = 75\n",
    "base_path = '/Users/chamathabeysinghe/Projects/monash/VAE_v2/data/synthetic/complex_dataset/original:_{}-resize:_{}-3ants'.format(original_size, resize_size)\n",
    "os.makedirs(base_path, exist_ok=True)\n"
   ]
  },
  {
   "cell_type": "code",
   "execution_count": null,
   "metadata": {},
   "outputs": [],
   "source": [
    "images = []\n",
    "for i in range(100):\n",
    "    img = draw_images_advanced(original_size, resize_size, base_path, i)\n",
    "    images.append(img)\n",
    "images = np.asarray(images)\n",
    "# np.random.shuffle(images)\n",
    "np.save(base_path, images)"
   ]
  },
  {
   "cell_type": "code",
   "execution_count": null,
   "metadata": {},
   "outputs": [],
   "source": [
    "plt.imshow(images[2])"
   ]
  },
  {
   "cell_type": "code",
   "execution_count": null,
   "metadata": {},
   "outputs": [],
   "source": [
    "np.max(images[0])"
   ]
  },
  {
   "cell_type": "code",
   "execution_count": null,
   "metadata": {},
   "outputs": [],
   "source": []
  }
 ],
 "metadata": {
  "kernelspec": {
   "display_name": "venv_pytorch",
   "language": "python",
   "name": "venv_pytorch"
  },
  "language_info": {
   "codemirror_mode": {
    "name": "ipython",
    "version": 3
   },
   "file_extension": ".py",
   "mimetype": "text/x-python",
   "name": "python",
   "nbconvert_exporter": "python",
   "pygments_lexer": "ipython3",
   "version": "3.7.4"
  },
  "pycharm": {
   "stem_cell": {
    "cell_type": "raw",
    "source": [],
    "metadata": {
     "collapsed": false
    }
   }
  }
 },
 "nbformat": 4,
 "nbformat_minor": 4
}