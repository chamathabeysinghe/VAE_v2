{
 "cells": [
  {
   "cell_type": "code",
   "execution_count": 17,
   "metadata": {},
   "outputs": [],
   "source": [
    "import cv2\n",
    "import numpy as np\n",
    "import os\n",
    "import glob\n",
    "from PIL import Image\n",
    "import matplotlib.pyplot as plt\n",
    "import pickle\n",
    "from random import randint\n",
    "%matplotlib inline"
   ]
  },
  {
   "cell_type": "code",
   "execution_count": 2,
   "metadata": {},
   "outputs": [],
   "source": [
    "def read_image(path):\n",
    "    img = np.asarray(Image.open(path))\n",
    "    return img\n",
    "\n",
    "def write_image_to_file(img, path):\n",
    "    cv2.imwrite(path, img)\n",
    "    \n",
    "def draw_image(image):\n",
    "    image = np.squeeze(image)\n",
    "    plt.figure(figsize=(7, 7))\n",
    "    plt.imshow(image, cmap='gray', interpolation='none')\n",
    "    plt.axis('off')\n",
    "    plt.show()\n",
    "\n",
    "def resize_image(img, resize_shape):\n",
    "    res = cv2.resize(img, dsize=resize_shape, interpolation=cv2.INTER_CUBIC)\n",
    "    return res    "
   ]
  },
  {
   "cell_type": "code",
   "execution_count": 3,
   "metadata": {},
   "outputs": [],
   "source": [
    "def get_bounding_boxes(image):\n",
    "    bboxes = []\n",
    "    ret, thresh = cv2.threshold(img, 120, 255, 0)\n",
    "    kernel = cv2.getStructuringElement(cv2.MORPH_RECT, (3,3))\n",
    "    dilate = cv2.dilate(thresh, kernel, iterations=3)\n",
    "#     draw_image(dilate)\n",
    "    contours, hierarchy = cv2.findContours(dilate, cv2.RETR_TREE, cv2.CHAIN_APPROX_SIMPLE)\n",
    "    for cnt in contours:\n",
    "        area = cv2.contourArea(cnt)\n",
    "        if (area > 400.0):\n",
    "            x, y, w, h = cv2.boundingRect(cnt)\n",
    "            crop = thresh[y:y+h, x:x+w]\n",
    "            \n",
    "            white_count = crop[crop > 1].shape[0]\n",
    "            black_count = crop[crop < 1].shape[0]\n",
    "#             print(while_count/black_count)\n",
    "            \n",
    "            if (white_count/black_count > 0.08):\n",
    "                bboxes.append(cv2.boundingRect(cnt))\n",
    "    return bboxes\n",
    "    "
   ]
  },
  {
   "cell_type": "code",
   "execution_count": 4,
   "metadata": {},
   "outputs": [],
   "source": [
    "def draw_bboxes(gray_img, bboxes):\n",
    "    img = cv2.cvtColor(gray_img,cv2.COLOR_GRAY2RGB)\n",
    "    for b in bboxes:\n",
    "        x, y, w, h = b\n",
    "        cv2.rectangle(img,(x,y),(x+w,y+h),(0,255,0),2)\n",
    "    draw_image(img)"
   ]
  },
  {
   "cell_type": "code",
   "execution_count": 5,
   "metadata": {},
   "outputs": [],
   "source": [
    "def crop_selection(img, bbox):\n",
    "    x, y, w, h = bbox\n",
    "    crop = img[y:y+h, x:x+w]\n",
    "    return crop"
   ]
  },
  {
   "cell_type": "code",
   "execution_count": 7,
   "metadata": {},
   "outputs": [],
   "source": [
    "base_path = \"/Users/chamathabeysinghe/Projects/monash/VAE_v2/data/intermediate/single_ant_bw\"\n",
    "img_paths = [os.path.join(base_path, x) for x in os.listdir(base_path) if not x.startswith('.')]\n"
   ]
  },
  {
   "cell_type": "code",
   "execution_count": 8,
   "metadata": {
    "scrolled": true
   },
   "outputs": [],
   "source": [
    "ants = []\n",
    "for i_path in img_paths:\n",
    "    img = read_image(i_path)\n",
    "    bboxes = get_bounding_boxes(img)\n",
    "    crop = crop_selection(img, bboxes[0])\n",
    "    ants.append(crop)\n",
    "#     draw_bboxes(img, bboxes)"
   ]
  },
  {
   "cell_type": "code",
   "execution_count": null,
   "metadata": {},
   "outputs": [],
   "source": [
    "with open('ants.pkl', 'wb') as f:\n",
    "    pickle.dump(ants, f)"
   ]
  },
  {
   "cell_type": "markdown",
   "metadata": {},
   "source": [
    "## Create synthetic antdataset"
   ]
  },
  {
   "cell_type": "code",
   "execution_count": null,
   "metadata": {},
   "outputs": [],
   "source": [
    "with open('ants.pkl', 'rb') as f:\n",
    "    ants = pickle.load(f)"
   ]
  },
  {
   "cell_type": "code",
   "execution_count": null,
   "metadata": {},
   "outputs": [],
   "source": [
    "def draw_ant(back):\n",
    "    ant_index = randint(0, len(ants)-1)\n",
    "    ant_img = ants[ant_index]\n",
    "    bak_h, bak_w = back.shape\n",
    "    ant_h, ant_w = ant_img.shape\n",
    "    \n",
    "    start_x = randint(0, bak_h - ant_h)\n",
    "    start_y = randint(0, bak_w - ant_w)\n",
    "    \n",
    "    back[start_x:start_x+ant_h, start_y: start_y+ ant_w] += ant_img\n",
    "    "
   ]
  },
  {
   "cell_type": "code",
   "execution_count": null,
   "metadata": {},
   "outputs": [],
   "source": [
    "def draw_images (original_size, resize_size, path, file_index):\n",
    "    background = np.zeros((original_size, original_size))\n",
    "#     if file_index%3 > 0:\n",
    "#         draw_ant(background)\n",
    "        \n",
    "    for i in range(file_index%4):\n",
    "        draw_ant(background)\n",
    "    background = resize_image(background, (resize_size, resize_size))\n",
    "    write_image_to_file(background, os.path.join(path, '{:05d}.png'.format(file_index)))\n",
    "    return background"
   ]
  },
  {
   "cell_type": "code",
   "execution_count": null,
   "metadata": {},
   "outputs": [],
   "source": [
    "original_size = 300\n",
    "resize_size = 75\n",
    "base_path = '/Users/chamathabeysinghe/Projects/monash/test/variational_auto_encoder/data/ANTS-SYNTHETIC/test-original: {}-resize: {}-3ants'.format(original_size, resize_size)\n",
    "os.makedirs(base_path, exist_ok=True)"
   ]
  },
  {
   "cell_type": "code",
   "execution_count": null,
   "metadata": {
    "scrolled": true
   },
   "outputs": [],
   "source": [
    "images = []\n",
    "for i in range(1000):\n",
    "    print(i)\n",
    "    img = draw_images(original_size, resize_size, base_path, i)\n",
    "    images.append(img)\n",
    "images = np.asarray(images)\n",
    "# np.random.shuffle(images)\n",
    "np.save(base_path, images)"
   ]
  },
  {
   "cell_type": "code",
   "execution_count": null,
   "metadata": {},
   "outputs": [],
   "source": [
    "draw_image(images[6])"
   ]
  },
  {
   "cell_type": "markdown",
   "metadata": {},
   "source": [
    "## Advanced dataset"
   ]
  },
  {
   "cell_type": "code",
   "execution_count": 9,
   "metadata": {},
   "outputs": [],
   "source": [
    "def draw_close_ants(back, count):\n",
    "    \n",
    "    ant_imgs = []\n",
    "    \n",
    "    for _ in range(count):\n",
    "        ant_index = randint(0, len(ants)-1)\n",
    "        ant_img = ants[ant_index]\n",
    "        ant_imgs.append(ant_img)\n",
    "        \n",
    "        \n",
    "    bak_h, bak_w = back.shape\n",
    "    \n",
    "    ant_img = ant_imgs[0]\n",
    "    ant_h, ant_w = ant_img.shape\n",
    "    start_x = randint(0, bak_h - ant_h)\n",
    "    start_y = randint(0, bak_w - ant_w)\n",
    "    \n",
    "    for i in range(1, count+1):\n",
    "        back[start_x:start_x+ant_h, start_y: start_y+ ant_w] += ant_img\n",
    "        if (i >= len(ant_imgs)):\n",
    "            break\n",
    "        ant_img = ant_imgs[i]\n",
    "        ant_h, ant_w = ant_img.shape\n",
    "        start_x = min(max(0, start_x + randint(-50, 50)), bak_h - ant_h)\n",
    "        start_y = min(max(0, start_y + randint(-50, 50)), bak_w - ant_w)\n",
    "        \n",
    "    "
   ]
  },
  {
   "cell_type": "code",
   "execution_count": 35,
   "metadata": {},
   "outputs": [],
   "source": [
    "def draw_images_advanced (original_size, resize_size, path, file_index):\n",
    "    background = np.zeros((original_size, original_size))\n",
    "#     if file_index%3 > 0:\n",
    "#         draw_ant(background)\n",
    "        \n",
    "    draw_close_ants(background, 1)\n",
    "    background = resize_image(background, (resize_size, resize_size))\n",
    "    write_image_to_file(background, os.path.join(path, '{:05d}.png'.format(file_index)))\n",
    "    return background"
   ]
  },
  {
   "cell_type": "code",
   "execution_count": 36,
   "metadata": {},
   "outputs": [],
   "source": [
    "original_size = 300\n",
    "resize_size = 75\n",
    "base_path = '/Users/chamathabeysinghe/Projects/monash/VAE_v2/data/synthetic/complex_dataset/original:_{}-resize:_{}-0ants'.format(original_size, resize_size)\n",
    "os.makedirs(base_path, exist_ok=True)"
   ]
  },
  {
   "cell_type": "code",
   "execution_count": 37,
   "metadata": {},
   "outputs": [],
   "source": [
    "images = []\n",
    "for i in range(100):\n",
    "    img = draw_images_advanced(original_size, resize_size, base_path, i)\n",
    "    images.append(img)\n",
    "images = np.asarray(images)\n",
    "# np.random.shuffle(images)\n",
    "np.save(base_path, images)"
   ]
  },
  {
   "cell_type": "code",
   "execution_count": null,
   "metadata": {},
   "outputs": [],
   "source": []
  }
 ],
 "metadata": {
  "kernelspec": {
   "display_name": "venv_pytorch",
   "language": "python",
   "name": "venv_pytorch"
  },
  "language_info": {
   "codemirror_mode": {
    "name": "ipython",
    "version": 3
   },
   "file_extension": ".py",
   "mimetype": "text/x-python",
   "name": "python",
   "nbconvert_exporter": "python",
   "pygments_lexer": "ipython3",
   "version": "3.7.4"
  }
 },
 "nbformat": 4,
 "nbformat_minor": 4
}
